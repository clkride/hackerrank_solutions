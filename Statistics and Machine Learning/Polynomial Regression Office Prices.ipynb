{
 "cells": [
  {
   "cell_type": "code",
   "execution_count": null,
   "id": "d03c276a",
   "metadata": {},
   "outputs": [],
   "source": [
    "# Enter your code here. Read input from STDIN. Print output to STDOUT\n",
    "import numpy as np\n",
    "from sklearn.linear_model import LinearRegression\n",
    "from sklearn.preprocessing import PolynomialFeatures\n",
    "import pandas as pd\n",
    "# Read F and N from the first line\n",
    "F, N = map(int, input().split())\n",
    "\n",
    "# Read the table with F+1 columns and N rows\n",
    "table = [list(map(float, input().split())) for _ in range(N)]\n",
    "\n",
    "# Convert list of lists to DataFrame\n",
    "df_train = pd.DataFrame(table, columns=[f'X{i}' for i in range(len(table[0])-1)] + ['y'])\n",
    "\n",
    "T = int(input())\n",
    "\n",
    "# Read the table with F+1 columns and N rows\n",
    "table2 = [list(map(float, input().split())) for _ in range(T)]\n",
    "\n",
    "df_test = pd.DataFrame(table2, columns=[f'X{i}' for i in range(len(table2[0]))])\n",
    "\n",
    "\n",
    "X = df_train.drop(columns=['y'])\n",
    "Y = df_train[['y']]\n",
    "# Polynomial regression\n",
    "degree = 4  # Set the degree of the polynomial\n",
    "features = PolynomialFeatures(degree= degree)\n",
    "X_poly = features.fit_transform(X)\n",
    "\n",
    "# Fit the polynomial features\n",
    "model = LinearRegression()\n",
    "model.fit(X_poly, Y)\n",
    "\n",
    "X_poly_test = features.fit_transform(df_test)\n",
    "\n",
    "# Predict using the polynomial features\n",
    "y_pred = model.predict(X_poly_test)\n",
    "\n",
    "for i in range(len(y_pred)):\n",
    "    print(y_pred[i][0])"
   ]
  }
 ],
 "metadata": {
  "kernelspec": {
   "display_name": "Python 3 (ipykernel)",
   "language": "python",
   "name": "python3"
  },
  "language_info": {
   "codemirror_mode": {
    "name": "ipython",
    "version": 3
   },
   "file_extension": ".py",
   "mimetype": "text/x-python",
   "name": "python",
   "nbconvert_exporter": "python",
   "pygments_lexer": "ipython3",
   "version": "3.9.13"
  }
 },
 "nbformat": 4,
 "nbformat_minor": 5
}
