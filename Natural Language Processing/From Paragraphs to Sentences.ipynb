{
 "cells": [
  {
   "cell_type": "code",
   "execution_count": null,
   "id": "69bc244e",
   "metadata": {},
   "outputs": [],
   "source": [
    "# Enter your code here. Read input from STDIN. Print output to STDOUT\n",
    "import re\n",
    "\n",
    "input_string = input()\n",
    "\n",
    "def detect_sentences(text):\n",
    "    # Define a regular expression pattern to match sentence boundaries\n",
    "    pattern = r'(?<=[.!?]) +'\n",
    "\n",
    "    # Split the text into sentences using the regular expression pattern\n",
    "    sentences = re.split(pattern, text)\n",
    "\n",
    "    return sentences\n",
    "\n",
    "sentences = detect_sentences(input_string)\n",
    "for sentence in sentences:\n",
    "    print(sentence)"
   ]
  }
 ],
 "metadata": {
  "kernelspec": {
   "display_name": "Python 3 (ipykernel)",
   "language": "python",
   "name": "python3"
  },
  "language_info": {
   "codemirror_mode": {
    "name": "ipython",
    "version": 3
   },
   "file_extension": ".py",
   "mimetype": "text/x-python",
   "name": "python",
   "nbconvert_exporter": "python",
   "pygments_lexer": "ipython3",
   "version": "3.9.13"
  }
 },
 "nbformat": 4,
 "nbformat_minor": 5
}
