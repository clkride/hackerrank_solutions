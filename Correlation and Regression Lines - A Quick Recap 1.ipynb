{
 "cells": [
  {
   "cell_type": "code",
   "execution_count": 1,
   "id": "474c235e",
   "metadata": {},
   "outputs": [],
   "source": [
    "arr1 = [15  ,12,  8,   8,   7,   7,   7,   6,   5,   3]\n",
    "arr2 = [10 , 25,  17,  11,  13,  17,  20,  13,  9,   15]\n",
    "import math"
   ]
  },
  {
   "cell_type": "code",
   "execution_count": 2,
   "id": "7176215c",
   "metadata": {},
   "outputs": [],
   "source": [
    "n = len(arr1)\n",
    "x_mean = sum(arr1)/n\n",
    "y_mean = sum(arr2)/n"
   ]
  },
  {
   "cell_type": "code",
   "execution_count": 11,
   "id": "dbbfcee4",
   "metadata": {},
   "outputs": [],
   "source": [
    "cov = sum([(x-x_mean)*(y-y_mean) for x,y in zip(arr1,arr2)])"
   ]
  },
  {
   "cell_type": "code",
   "execution_count": 12,
   "id": "441fe434",
   "metadata": {},
   "outputs": [],
   "source": [
    "stdx = math.sqrt(sum([(x-x_mean)**2 for x in arr1]))\n",
    "stdy = math.sqrt(sum([(y-y_mean)**2 for y in arr2]))"
   ]
  },
  {
   "cell_type": "code",
   "execution_count": 13,
   "id": "658a68ee",
   "metadata": {},
   "outputs": [],
   "source": [
    "corr_coef = cov/(stdx*stdy)"
   ]
  },
  {
   "cell_type": "code",
   "execution_count": 14,
   "id": "0fb5574c",
   "metadata": {},
   "outputs": [
    {
     "name": "stdout",
     "output_type": "stream",
     "text": [
      "0.14499815458068516\n"
     ]
    }
   ],
   "source": [
    "print(corr_coef)"
   ]
  },
  {
   "cell_type": "code",
   "execution_count": null,
   "id": "399870c4",
   "metadata": {},
   "outputs": [],
   "source": []
  }
 ],
 "metadata": {
  "kernelspec": {
   "display_name": "Python 3 (ipykernel)",
   "language": "python",
   "name": "python3"
  },
  "language_info": {
   "codemirror_mode": {
    "name": "ipython",
    "version": 3
   },
   "file_extension": ".py",
   "mimetype": "text/x-python",
   "name": "python",
   "nbconvert_exporter": "python",
   "pygments_lexer": "ipython3",
   "version": "3.9.13"
  }
 },
 "nbformat": 4,
 "nbformat_minor": 5
}
